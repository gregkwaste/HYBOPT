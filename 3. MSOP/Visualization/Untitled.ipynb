{
 "cells": [
  {
   "cell_type": "code",
   "execution_count": 1,
   "metadata": {},
   "outputs": [
    {
     "ename": "ModuleNotFoundError",
     "evalue": "No module named 'matplotlib'",
     "output_type": "error",
     "traceback": [
      "\u001b[1;31m---------------------------------------------------------------------------\u001b[0m",
      "\u001b[1;31mModuleNotFoundError\u001b[0m                       Traceback (most recent call last)",
      "\u001b[1;32m<ipython-input-1-feca70220a41>\u001b[0m in \u001b[0;36m<module>\u001b[1;34m()\u001b[0m\n\u001b[0;32m      2\u001b[0m \u001b[1;32mimport\u001b[0m \u001b[0mReadData\u001b[0m\u001b[1;33m\u001b[0m\u001b[0m\n\u001b[0;32m      3\u001b[0m \u001b[1;32mfrom\u001b[0m \u001b[0mClasses\u001b[0m \u001b[1;32mimport\u001b[0m \u001b[0mNode\u001b[0m\u001b[1;33m,\u001b[0m \u001b[0mSet\u001b[0m\u001b[1;33m,\u001b[0m \u001b[0mModel\u001b[0m\u001b[1;33m\u001b[0m\u001b[0m\n\u001b[1;32m----> 4\u001b[1;33m \u001b[1;32mfrom\u001b[0m \u001b[0mmatplotlib\u001b[0m \u001b[1;32mimport\u001b[0m \u001b[0mpyplot\u001b[0m \u001b[1;32mas\u001b[0m \u001b[0mplt\u001b[0m\u001b[1;33m\u001b[0m\u001b[0m\n\u001b[0m\u001b[0;32m      5\u001b[0m \u001b[1;33m\u001b[0m\u001b[0m\n\u001b[0;32m      6\u001b[0m \u001b[0mextracted_solutions_folder\u001b[0m \u001b[1;33m=\u001b[0m \u001b[1;34m\"../MSOP/extracted_solutions/\"\u001b[0m\u001b[1;33m\u001b[0m\u001b[0m\n",
      "\u001b[1;31mModuleNotFoundError\u001b[0m: No module named 'matplotlib'"
     ]
    }
   ],
   "source": [
    "import random\n",
    "import ReadData\n",
    "from Classes import Node, Set, Model\n",
    "from matplotlib import pyplot as plt\n",
    "\n",
    "extracted_solutions_folder = \"../MSOP/extracted_solutions/\"\n",
    "dataset_name = \"217vm1084_v4_p1\"\n",
    "# \"40krob200_v4_p1\"\n",
    "sol_type = \"final\"\n",
    "solution_file = dataset_name + \"_\" + sol_type + \".txt\"\n",
    "solution_file_path = extracted_solutions_folder + solution_file\n",
    "\n",
    "\n",
    "random.seed(1)\n",
    "sol = ReadData.read_solution(solution_file_path)\n",
    "m = ReadData.read_model(dataset_name)\n",
    "included_sets = [m.allSets[m.allNodes[i].set_id] for i in sol.included_nodes]\n",
    "print(m.node_crowd, m.set_crowd, len(included_sets))\n",
    "\n",
    "plt.scatter(m.allNodes[0].x, m.allNodes[0].y, color=\"black\", marker=\"s\")\n",
    "for set in m.allSets[1:]:\n",
    "    color = (random.random(), random.random(), random.random())\n",
    "    x_points = [n.x for n in set.nodes]\n",
    "    y_points = [n.y for n in set.nodes]\n",
    "    if set in included_sets:\n",
    "        plt.scatter(x_points, y_points, color=color)\n",
    "    else:\n",
    "        plt.scatter(x_points, y_points, marker='x', color=color)\n",
    "for route in sol.routes:\n",
    "    color = (random.random(), random.random(), random.random())\n",
    "    path_x = [m.allNodes[node].x for node in route]\n",
    "    path_y = [m.allNodes[node].y for node in route]\n",
    "    plt.plot(path_x, path_y, linewidth=1, color=color)\n",
    "plt.savefig(dataset_name + \"_\" + sol_type + \"_vis.png\")\n",
    "plt.close()"
   ]
  },
  {
   "cell_type": "code",
   "execution_count": 2,
   "metadata": {},
   "outputs": [
    {
     "ename": "ModuleNotFoundError",
     "evalue": "No module named 'matplotlib'",
     "output_type": "error",
     "traceback": [
      "\u001b[1;31m---------------------------------------------------------------------------\u001b[0m",
      "\u001b[1;31mModuleNotFoundError\u001b[0m                       Traceback (most recent call last)",
      "\u001b[1;32m<ipython-input-2-0484cd13f94d>\u001b[0m in \u001b[0;36m<module>\u001b[1;34m()\u001b[0m\n\u001b[1;32m----> 1\u001b[1;33m \u001b[1;32mimport\u001b[0m \u001b[0mmatplotlib\u001b[0m\u001b[1;33m\u001b[0m\u001b[0m\n\u001b[0m",
      "\u001b[1;31mModuleNotFoundError\u001b[0m: No module named 'matplotlib'"
     ]
    }
   ],
   "source": [
    "import matplotlib"
   ]
  },
  {
   "cell_type": "code",
   "execution_count": null,
   "metadata": {},
   "outputs": [],
   "source": []
  }
 ],
 "metadata": {
  "kernelspec": {
   "display_name": "Python 3",
   "language": "python",
   "name": "python3"
  },
  "language_info": {
   "codemirror_mode": {
    "name": "ipython",
    "version": 3
   },
   "file_extension": ".py",
   "mimetype": "text/x-python",
   "name": "python",
   "nbconvert_exporter": "python",
   "pygments_lexer": "ipython3",
   "version": "3.6.4"
  }
 },
 "nbformat": 4,
 "nbformat_minor": 2
}
